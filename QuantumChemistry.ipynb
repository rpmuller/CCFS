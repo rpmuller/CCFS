{
 "cells": [
  {
   "cell_type": "markdown",
   "id": "41e5eee5-981b-4d7a-8b15-38ee77ef831f",
   "metadata": {},
   "source": [
    "# Quantum Chemistry"
   ]
  }
 ],
 "metadata": {
  "kernelspec": {
   "display_name": "Python 3 (ipykernel)",
   "language": "python",
   "name": "python3"
  },
  "language_info": {
   "codemirror_mode": {
    "name": "ipython",
    "version": 3
   },
   "file_extension": ".py",
   "mimetype": "text/x-python",
   "name": "python",
   "nbconvert_exporter": "python",
   "pygments_lexer": "ipython3",
   "version": "3.9.12"
  }
 },
 "nbformat": 4,
 "nbformat_minor": 5
}
