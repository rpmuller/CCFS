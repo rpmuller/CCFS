{
 "cells": [
  {
   "cell_type": "markdown",
   "id": "6a04b92c-6389-4d49-ae18-f9a496715b69",
   "metadata": {},
   "source": [
    "# Atoms and Molecular Geometry"
   ]
  },
  {
   "cell_type": "markdown",
   "id": "88d990f8-9146-4214-bc53-58e90450bbfe",
   "metadata": {},
   "source": [
    "## Geometry and Coordinates in 3D Space"
   ]
  },
  {
   "cell_type": "markdown",
   "id": "4993d661-2ef8-4e2c-b34d-8f6a2d94bc99",
   "metadata": {},
   "source": [
    "We can use the `numpy` library to create double-precision 3-vectors to use for coordinates:"
   ]
  },
  {
   "cell_type": "code",
   "execution_count": 15,
   "id": "7708ad4e-b0ad-4718-9df6-45955311142e",
   "metadata": {},
   "outputs": [],
   "source": [
    "import numpy as np\n",
    "def coord(x,y,z): return np.array([x,y,z],np.double)"
   ]
  },
  {
   "cell_type": "markdown",
   "id": "6dabde7a-1150-4866-bc1f-4c21e3bd586a",
   "metadata": {},
   "source": [
    "Double precision variables, 64-bit precision floating-point numbers, are the standard datatype for most scientific programming applications, and will be used throughout the rest of the course."
   ]
  },
  {
   "cell_type": "markdown",
   "id": "0fbcc109-b093-44d5-82ae-3853899c6c1a",
   "metadata": {},
   "source": [
    "`numpy` makes it easy to compute distances:"
   ]
  },
  {
   "cell_type": "code",
   "execution_count": 40,
   "id": "583fbda5-d89b-47a7-8ff2-8e3609c588a4",
   "metadata": {},
   "outputs": [],
   "source": [
    "def distance(pt1,pt2): return np.linalg.norm(pt1-pt2)"
   ]
  },
  {
   "cell_type": "markdown",
   "id": "5bc5430d-dd95-463b-89fa-c8e17986ea20",
   "metadata": {},
   "source": [
    "Here we use the `norm` method of numpy arrays to compute the *2-norm* of the difference between the two vectors, corresponding to the normal distance computed via the Pythagorean theorem\n",
    "$$ r_{12} = \\sqrt{(x_1-x_2)^2 + (y_1-y_2)^2 + (z_1-z_2)^2}.$$"
   ]
  },
  {
   "cell_type": "markdown",
   "id": "380f82b9-fe2e-4c58-b8e4-098aa23ff78e",
   "metadata": {},
   "source": [
    "We have not specified units for the distance function. If the xyz-coordinates correspond to meters, `distance` will return meters; if they correspond to Angstroms ($=10^{-10} m$), `distance` will return Angstroms. This ambiguity is a both a convenient polymorphism, in that we don't have to define different functions for different units, and a future source of errors if we try to compute distances between one point that has meter units and another that uses Angstroms.\n",
    "\n",
    "A rigorous *type system* can substantially reduce the ambiguity, often without reducing the polymorphism, but is beyond the scope of the current work."
   ]
  },
  {
   "cell_type": "markdown",
   "id": "2ef25a96-0167-4e8e-a106-360c9cb40898",
   "metadata": {},
   "source": [
    "## Computing neighbor lists"
   ]
  },
  {
   "cell_type": "markdown",
   "id": "6ebf2ed2-c72d-4a71-bc83-589fa376ebb0",
   "metadata": {},
   "source": [
    "Many of the forces encountered in computational chemistry are *pairwise*, and computing distances to other atoms is a common operation."
   ]
  },
  {
   "cell_type": "code",
   "execution_count": 10,
   "id": "41e33e03-ea3f-437e-bf87-bf21ebf3eb49",
   "metadata": {},
   "outputs": [],
   "source": [
    "def distances(pt,others):\n",
    "    ds = []\n",
    "    for other in others:\n",
    "        ds.append(distance(pt,other))\n",
    "    return ds"
   ]
  },
  {
   "cell_type": "markdown",
   "id": "e4a624d4-db8d-4251-99fe-75257ed64552",
   "metadata": {},
   "source": [
    "We can make this syntax somewhat easier using Python's [list comprehensions](https://docs.python.org/3/tutorial/datastructures.html#list-comprehensions):"
   ]
  },
  {
   "cell_type": "code",
   "execution_count": 12,
   "id": "3f2c0709-3829-4242-ab08-13dc4f95ce49",
   "metadata": {},
   "outputs": [],
   "source": [
    "def distances(pt,others): return [distance(pt,other) for other in others]"
   ]
  },
  {
   "cell_type": "markdown",
   "id": "d7bd60ae-d3d2-42b9-b0b1-c9bcfcd96393",
   "metadata": {},
   "source": [
    "As we strive here for the *simplest readable code*, we will choose to use list comprehensions in cases such as this one where they more directly communicate our intentions."
   ]
  },
  {
   "cell_type": "markdown",
   "id": "438871ef-dc95-4f6d-a99b-b341656f0496",
   "metadata": {},
   "source": [
    "We often want to select only the atoms that are nearby another atom. We can *filter* our list for distances that are less than a certain amount:"
   ]
  },
  {
   "cell_type": "code",
   "execution_count": 86,
   "id": "8e037649-9b4a-4a58-b124-a228ec04e003",
   "metadata": {},
   "outputs": [],
   "source": [
    "def neighbors(distances,cutoff):\n",
    "    def close(d): return d<cutoff\n",
    "    return list(filter(close,distances))"
   ]
  },
  {
   "cell_type": "markdown",
   "id": "717dc574-b5f8-42f1-8598-1c4b4f704e56",
   "metadata": {},
   "source": [
    "Here we define an inline function `close` that returns `True` for values less than the cutoff. `filter` then selects values from the `distances` where that function is true. We use the `list` function on the result to return a normal Python list rather than an interator, which is slightly less efficient, but more convenient for interactive work such as we're doing in this notebook.\n",
    "\n",
    "We could have also used an [anonymous function](https://docs.python.org/3/tutorial/controlflow.html#lambda-expressions) `lambda` to define the `close` function:"
   ]
  },
  {
   "cell_type": "code",
   "execution_count": 87,
   "id": "18007b30-5e47-4a4a-adb2-3439bb45c114",
   "metadata": {},
   "outputs": [],
   "source": [
    "def neighbors(distances,cutoff): return list(filter(lambda d: d<cutoff,distances))"
   ]
  },
  {
   "cell_type": "markdown",
   "id": "b99831ce-b1cc-4c77-ab05-b9acb6a3ae78",
   "metadata": {},
   "source": [
    "You can decide for yourself what makes the simplest readable code; the author somewhat prefers the inline function."
   ]
  },
  {
   "cell_type": "markdown",
   "id": "2e73a8b5-1173-423e-b358-c800f4818cbc",
   "metadata": {},
   "source": [
    "To show how these functions work, let's create a cube of atoms $10\\times 10\\times 10$ centered at the origin, using the `numpy` `rand` function:"
   ]
  },
  {
   "cell_type": "code",
   "execution_count": 88,
   "id": "c15ac895-4069-4600-ac29-520b52ae2f29",
   "metadata": {},
   "outputs": [],
   "source": [
    "def pointcube(N,D):\n",
    "    pts = []\n",
    "    for _ in range(N):\n",
    "        pt = np.random.rand(3)\n",
    "        pts.append(D*(pt-0.5)) # Uses broadcasting to subtract 0.5 from each coordinate\n",
    "    return pts"
   ]
  },
  {
   "cell_type": "code",
   "execution_count": 99,
   "id": "abfd582e-06ae-41d0-aad6-a17a049f4c9f",
   "metadata": {},
   "outputs": [
    {
     "data": {
      "text/plain": [
       "[array([-2.93894875,  3.5767089 , -2.18365153]),\n",
       " array([-1.3545747 , -4.97516909,  3.63380839]),\n",
       " array([-4.75595972,  3.36205424,  2.72451511]),\n",
       " array([ 3.93026362, -2.49349639,  1.79520942]),\n",
       " array([4.4612889 , 1.88817557, 4.76964075]),\n",
       " array([-1.652398  ,  1.95548737, -1.72504479]),\n",
       " array([-2.04992563,  2.88193644, -4.19130666]),\n",
       " array([-3.46078445,  1.1096685 , -0.49803062]),\n",
       " array([ 2.09748929,  1.33645256, -0.92436616]),\n",
       " array([-4.34105368,  3.7261747 ,  1.28669498]),\n",
       " array([-3.90189268,  3.01707821, -2.41741812]),\n",
       " array([-2.89340135, -3.80725797, -1.49813072]),\n",
       " array([-2.69606728, -4.8654297 , -1.62226206]),\n",
       " array([2.40335897, 2.79581112, 0.68526302]),\n",
       " array([ 3.65627165, -4.36414524, -2.2356358 ]),\n",
       " array([ 4.4310181 , -2.95661094,  3.65818409]),\n",
       " array([-2.06474919, -4.2201647 ,  2.2870665 ]),\n",
       " array([ 0.91141151, -0.13444479,  0.63815458]),\n",
       " array([ 1.51598851, -3.29442721, -1.07215626]),\n",
       " array([-3.43002419,  4.3730258 , -4.99217856])]"
      ]
     },
     "execution_count": 99,
     "metadata": {},
     "output_type": "execute_result"
    }
   ],
   "source": [
    "pts = pointcube(20,10)\n",
    "pts # Convenient way to print out the return value"
   ]
  },
  {
   "cell_type": "code",
   "execution_count": 100,
   "id": "5307f601-1374-4490-ab6d-35fd355682ae",
   "metadata": {},
   "outputs": [
    {
     "data": {
      "text/plain": [
       "[5.11845682990897,\n",
       " 6.30806971157537,\n",
       " 6.430050091395783,\n",
       " 4.988714586527503,\n",
       " 6.7983658681955275,\n",
       " 3.0870907844671893,\n",
       " 5.484049987338074,\n",
       " 3.668300384901779,\n",
       " 2.65330352390845,\n",
       " 5.863847619441574,\n",
       " 5.492853334865442,\n",
       " 5.01112564657672,\n",
       " 5.794214281890332,\n",
       " 3.7499706091715828,\n",
       " 6.116547516868875,\n",
       " 6.46202603334915,\n",
       " 5.225289706762559,\n",
       " 1.1207085288789247,\n",
       " 3.7816650944889783,\n",
       " 7.4706269751570025]"
      ]
     },
     "execution_count": 100,
     "metadata": {},
     "output_type": "execute_result"
    }
   ],
   "source": [
    "origin = coord(0,0,0)\n",
    "ds = distances(origin,pts)\n",
    "ds"
   ]
  },
  {
   "cell_type": "code",
   "execution_count": 101,
   "id": "3b3e3c67-1762-492f-938c-cae5e7658922",
   "metadata": {},
   "outputs": [
    {
     "data": {
      "text/plain": [
       "[2.65330352390845, 1.1207085288789247]"
      ]
     },
     "execution_count": 101,
     "metadata": {},
     "output_type": "execute_result"
    }
   ],
   "source": [
    "ns = neighbors(ds,3)\n",
    "ns"
   ]
  },
  {
   "cell_type": "code",
   "execution_count": 105,
   "id": "87ab3833-8193-4dec-b144-688d1caf00bd",
   "metadata": {},
   "outputs": [
    {
     "ename": "Exception",
     "evalue": "finish fast neighbor list calculation",
     "output_type": "error",
     "traceback": [
      "\u001b[0;31m---------------------------------------------------------------------------\u001b[0m",
      "\u001b[0;31mException\u001b[0m                                 Traceback (most recent call last)",
      "Input \u001b[0;32mIn [105]\u001b[0m, in \u001b[0;36m<cell line: 1>\u001b[0;34m()\u001b[0m\n\u001b[0;32m----> 1\u001b[0m \u001b[38;5;28;01mraise\u001b[39;00m \u001b[38;5;167;01mException\u001b[39;00m(\u001b[38;5;124m\"\u001b[39m\u001b[38;5;124mfinish fast neighbor list calculation\u001b[39m\u001b[38;5;124m\"\u001b[39m)\n",
      "\u001b[0;31mException\u001b[0m: finish fast neighbor list calculation"
     ]
    }
   ],
   "source": [
    "raise Exception(\"finish fast neighbor list calculation\")"
   ]
  },
  {
   "cell_type": "markdown",
   "id": "db8dad1d-0638-4c39-8efd-5fd0af9c407c",
   "metadata": {},
   "source": [
    "## Representing atoms"
   ]
  },
  {
   "cell_type": "markdown",
   "id": "1e85cf8f-84a4-454a-825f-0c68f7838a6e",
   "metadata": {},
   "source": [
    "## Fast methods of computing Coulomb repulsion"
   ]
  },
  {
   "cell_type": "code",
   "execution_count": null,
   "id": "1138ece7-a486-4f22-ae76-18444b0e6b2a",
   "metadata": {},
   "outputs": [],
   "source": []
  }
 ],
 "metadata": {
  "jupytext": {
   "formats": "ipynb,md"
  },
  "kernelspec": {
   "display_name": "Python 3 (ipykernel)",
   "language": "python",
   "name": "python3"
  },
  "language_info": {
   "codemirror_mode": {
    "name": "ipython",
    "version": 3
   },
   "file_extension": ".py",
   "mimetype": "text/x-python",
   "name": "python",
   "nbconvert_exporter": "python",
   "pygments_lexer": "ipython3",
   "version": "3.9.12"
  }
 },
 "nbformat": 4,
 "nbformat_minor": 5
}
