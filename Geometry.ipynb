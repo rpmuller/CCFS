{
 "cells": [
  {
   "cell_type": "markdown",
   "id": "6a04b92c-6389-4d49-ae18-f9a496715b69",
   "metadata": {},
   "source": [
    "# Atoms and Molecular Geometry"
   ]
  },
  {
   "cell_type": "markdown",
   "id": "88d990f8-9146-4214-bc53-58e90450bbfe",
   "metadata": {},
   "source": [
    "## Geometry and Coordinates in 3D Space"
   ]
  }
 ],
 "metadata": {
  "kernelspec": {
   "display_name": "Python 3 (ipykernel)",
   "language": "python",
   "name": "python3"
  },
  "language_info": {
   "codemirror_mode": {
    "name": "ipython",
    "version": 3
   },
   "file_extension": ".py",
   "mimetype": "text/x-python",
   "name": "python",
   "nbconvert_exporter": "python",
   "pygments_lexer": "ipython3",
   "version": "3.9.12"
  }
 },
 "nbformat": 4,
 "nbformat_minor": 5
}
