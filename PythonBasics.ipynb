{
 "cells": [
  {
   "cell_type": "markdown",
   "id": "47f3b1f3-83ab-4604-b32d-0471e2e3b3d6",
   "metadata": {},
   "source": [
    "# Python Programming Basics"
   ]
  },
  {
   "cell_type": "markdown",
   "id": "0efcfd9a-3b00-42ba-9d2c-b2a093b84c1d",
   "metadata": {},
   "source": [
    "Python is the programming language of choice for many scientists to a large degree because it offers a great deal of power to analyze and model scientific data with relatively little overhead in terms of learning, installation or development time. It is a language you can pick up in a weekend, and use for the rest of your life.\n",
    "\n",
    "The [Python Tutorial](https://docs.python.org/3/tutorial/) is a great place to start getting a feel for the language. To complement this material, I taught a Python Short Course years ago to a group of computational chemists during a time that I was worried the field was moving too much in the direction of using canned software rather than developing one's own methods. I wanted to focus on what working scientists needed to be more productive: parsing output of other programs, building simple models, experimenting with object oriented programming, extending the language with C, and simple GUIs."
   ]
  },
  {
   "cell_type": "markdown",
   "id": "bc85a829-e5d5-45e7-ba21-32b0dd42f14d",
   "metadata": {},
   "source": [
    "This chapter will out of necessity just touch on the basics. For a thorough introduction to Python and the environment the book will be using, please consider carefully working through:\n",
    "* [Python Tutorial](https://docs.python.org/3/tutorial/)\n",
    "* [Jupyter Introduction](https://jupyter.org/try-jupyter/retro/notebooks/?path=notebooks/Intro.ipynb)\n",
    "* [Matplotlib's Introduction to PyPlot](https://matplotlib.org/stable/tutorials/introductory/pyplot.html)"
   ]
  },
  {
   "cell_type": "markdown",
   "id": "53089490-8b8f-43c9-871b-74f1ebfbf890",
   "metadata": {},
   "source": [
    "## Installation"
   ]
  },
  {
   "cell_type": "markdown",
   "id": "ec520e60-f03b-4dea-b40d-59fedf198bf1",
   "metadata": {},
   "source": [
    "## Introduction to Python"
   ]
  },
  {
   "cell_type": "markdown",
   "id": "88a546e0-7168-4123-b351-39054a42f4bb",
   "metadata": {},
   "source": [
    "## Introduction to Jupyter"
   ]
  },
  {
   "cell_type": "code",
   "execution_count": 2,
   "id": "1c6cda9e-6e1f-4c85-9e7f-56c69b736f9c",
   "metadata": {},
   "outputs": [],
   "source": [
    "# Update IPython -> Jupyter"
   ]
  },
  {
   "cell_type": "markdown",
   "id": "9f75b664-d2db-4f74-9b08-9ce34b69cdb5",
   "metadata": {},
   "source": [
    "The lessons that follow make use of the IPython notebooks. Briefly, notebooks have code cells (that are generally followed by result cells) and text cells. The text cells are the stuff that you're reading now. The code cells start with `In []:` with some number generally in the brackets. If you put your cursor in the code cell and hit Shift-Enter, the code will run in the Python interpreter and the result will print out in the output cell. You can then change things around and see whether you understand what's going on. "
   ]
  },
  {
   "cell_type": "markdown",
   "id": "196d80d2-b589-4e70-958a-2223b7743f0c",
   "metadata": {},
   "source": [
    "## Why CCFS Uses Only a Subset of Python"
   ]
  },
  {
   "cell_type": "code",
   "execution_count": null,
   "id": "f849055a-10cb-4edb-8c7b-7dfd8f33a053",
   "metadata": {},
   "outputs": [],
   "source": []
  }
 ],
 "metadata": {
  "kernelspec": {
   "display_name": "Python 3 (ipykernel)",
   "language": "python",
   "name": "python3"
  },
  "language_info": {
   "codemirror_mode": {
    "name": "ipython",
    "version": 3
   },
   "file_extension": ".py",
   "mimetype": "text/x-python",
   "name": "python",
   "nbconvert_exporter": "python",
   "pygments_lexer": "ipython3",
   "version": "3.9.12"
  }
 },
 "nbformat": 4,
 "nbformat_minor": 5
}
